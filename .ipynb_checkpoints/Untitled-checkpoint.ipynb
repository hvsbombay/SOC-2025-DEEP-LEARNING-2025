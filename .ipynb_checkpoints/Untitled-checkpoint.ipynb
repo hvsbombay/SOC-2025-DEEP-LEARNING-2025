{
 "cells": [
  {
   "cell_type": "code",
   "execution_count": null,
   "id": "1c4a258d-ae1d-4e15-81c7-51ac535522c9",
   "metadata": {},
   "outputs": [],
   "source": [
    "solve1"
   ]
  }
 ],
 "metadata": {
  "kernelspec": {
   "display_name": "Python 3 (ipykernel)",
   "language": "python",
   "name": "python3"
  },
  "language_info": {
   "codemirror_mode": {
    "name": "ipython",
    "version": 3
   },
   "file_extension": ".py",
   "mimetype": "text/x-python",
   "name": "python",
   "nbconvert_exporter": "python",
   "pygments_lexer": "ipython3",
   "version": "3.13.3"
  }
 },
 "nbformat": 4,
 "nbformat_minor": 5
}
