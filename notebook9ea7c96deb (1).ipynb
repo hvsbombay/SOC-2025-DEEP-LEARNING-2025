{
 "cells": [
  {
   "cell_type": "code",
   "execution_count": 1,
   "id": "59d42935",
   "metadata": {
    "execution": {
     "iopub.execute_input": "2025-06-27T11:51:41.356422Z",
     "iopub.status.busy": "2025-06-27T11:51:41.356023Z",
     "iopub.status.idle": "2025-06-27T11:51:47.106080Z",
     "shell.execute_reply": "2025-06-27T11:51:47.104981Z"
    },
    "papermill": {
     "duration": 5.756509,
     "end_time": "2025-06-27T11:51:47.107926",
     "exception": false,
     "start_time": "2025-06-27T11:51:41.351417",
     "status": "completed"
    },
    "tags": []
   },
   "outputs": [],
   "source": [
    "import numpy as np\n",
    "import pandas as pd\n",
    "from matplotlib import pyplot as plt\n",
    "\n",
    "data = pd.read_csv('/kaggle/input/digit-recognizer/train.csv')\n"
   ]
  },
  {
   "cell_type": "code",
   "execution_count": 2,
   "id": "8a730d83",
   "metadata": {
    "execution": {
     "iopub.execute_input": "2025-06-27T11:51:47.114610Z",
     "iopub.status.busy": "2025-06-27T11:51:47.114270Z",
     "iopub.status.idle": "2025-06-27T11:51:48.017959Z",
     "shell.execute_reply": "2025-06-27T11:51:48.016955Z"
    },
    "papermill": {
     "duration": 0.909371,
     "end_time": "2025-06-27T11:51:48.020394",
     "exception": false,
     "start_time": "2025-06-27T11:51:47.111023",
     "status": "completed"
    },
    "tags": []
   },
   "outputs": [],
   "source": [
    "data = np.array(data)\n",
    "m, n = data.shape\n",
    "np.random.shuffle(data) # shuffle before splitting into dev and training sets\n",
    "\n",
    "data_dev = data[0:1000].T\n",
    "Y_dev = data_dev[0]\n",
    "X_dev = data_dev[1:n]\n",
    "X_dev = X_dev / 255.\n",
    "\n",
    "data_train = data[1000:m].T\n",
    "Y_train = data_train[0]\n",
    "X_train = data_train[1:n]\n",
    "X_train = X_train / 255.\n",
    "_,m_train = X_train.shape"
   ]
  },
  {
   "cell_type": "code",
   "execution_count": 3,
   "id": "21445f1e",
   "metadata": {
    "execution": {
     "iopub.execute_input": "2025-06-27T11:51:48.030061Z",
     "iopub.status.busy": "2025-06-27T11:51:48.029731Z",
     "iopub.status.idle": "2025-06-27T11:51:48.037151Z",
     "shell.execute_reply": "2025-06-27T11:51:48.036221Z"
    },
    "papermill": {
     "duration": 0.013947,
     "end_time": "2025-06-27T11:51:48.038752",
     "exception": false,
     "start_time": "2025-06-27T11:51:48.024805",
     "status": "completed"
    },
    "tags": []
   },
   "outputs": [
    {
     "data": {
      "text/plain": [
       "array([9, 8, 7, ..., 2, 9, 5])"
      ]
     },
     "execution_count": 3,
     "metadata": {},
     "output_type": "execute_result"
    }
   ],
   "source": [
    "Y_train"
   ]
  },
  {
   "cell_type": "code",
   "execution_count": 4,
   "id": "de6c13c6",
   "metadata": {
    "execution": {
     "iopub.execute_input": "2025-06-27T11:51:48.046032Z",
     "iopub.status.busy": "2025-06-27T11:51:48.045294Z",
     "iopub.status.idle": "2025-06-27T11:51:48.059423Z",
     "shell.execute_reply": "2025-06-27T11:51:48.058540Z"
    },
    "papermill": {
     "duration": 0.019494,
     "end_time": "2025-06-27T11:51:48.061032",
     "exception": false,
     "start_time": "2025-06-27T11:51:48.041538",
     "status": "completed"
    },
    "tags": []
   },
   "outputs": [],
   "source": [
    "def init_params():\n",
    "    W1 = np.random.rand(10, 784) - 0.5\n",
    "    b1 = np.random.rand(10, 1) - 0.5\n",
    "    W2 = np.random.rand(10, 10) - 0.5\n",
    "    b2 = np.random.rand(10, 1) - 0.5\n",
    "    return W1, b1, W2, b2\n",
    "\n",
    "def ReLU(Z):\n",
    "    return np.maximum(Z, 0)\n",
    "\n",
    "def softmax(Z):\n",
    "    A = np.exp(Z) / sum(np.exp(Z))\n",
    "    return A\n",
    "    \n",
    "def forward_prop(W1, b1, W2, b2, X):\n",
    "    Z1 = W1.dot(X) + b1\n",
    "    A1 = ReLU(Z1)\n",
    "    Z2 = W2.dot(A1) + b2\n",
    "    A2 = softmax(Z2)\n",
    "    return Z1, A1, Z2, A2\n",
    "\n",
    "def ReLU_deriv(Z):\n",
    "    return Z > 0\n",
    "\n",
    "def one_hot(Y):\n",
    "    one_hot_Y = np.zeros((Y.size, Y.max() + 1))\n",
    "    one_hot_Y[np.arange(Y.size), Y] = 1\n",
    "    one_hot_Y = one_hot_Y.T\n",
    "    return one_hot_Y\n",
    "\n",
    "def backward_prop(Z1, A1, Z2, A2, W1, W2, X, Y):\n",
    "    one_hot_Y = one_hot(Y)\n",
    "    dZ2 = A2 - one_hot_Y\n",
    "    dW2 = 1 / m * dZ2.dot(A1.T)\n",
    "    db2 = 1 / m * np.sum(dZ2)\n",
    "    dZ1 = W2.T.dot(dZ2) * ReLU_deriv(Z1)\n",
    "    dW1 = 1 / m * dZ1.dot(X.T)\n",
    "    db1 = 1 / m * np.sum(dZ1)\n",
    "    return dW1, db1, dW2, db2\n",
    "\n",
    "def update_params(W1, b1, W2, b2, dW1, db1, dW2, db2, alpha):\n",
    "    W1 = W1 - alpha * dW1\n",
    "    b1 = b1 - alpha * db1    \n",
    "    W2 = W2 - alpha * dW2  \n",
    "    b2 = b2 - alpha * db2    \n",
    "    return W1, b1, W2, b2"
   ]
  },
  {
   "cell_type": "code",
   "execution_count": 5,
   "id": "09a3da7e",
   "metadata": {
    "execution": {
     "iopub.execute_input": "2025-06-27T11:51:48.067701Z",
     "iopub.status.busy": "2025-06-27T11:51:48.067310Z",
     "iopub.status.idle": "2025-06-27T11:51:48.076520Z",
     "shell.execute_reply": "2025-06-27T11:51:48.075709Z"
    },
    "papermill": {
     "duration": 0.014189,
     "end_time": "2025-06-27T11:51:48.078033",
     "exception": false,
     "start_time": "2025-06-27T11:51:48.063844",
     "status": "completed"
    },
    "tags": []
   },
   "outputs": [],
   "source": [
    "def get_predictions(A2):\n",
    "    return np.argmax(A2, 0)\n",
    "\n",
    "def get_accuracy(predictions, Y):\n",
    "    print(predictions, Y)\n",
    "    return np.sum(predictions == Y) / Y.size\n",
    "\n",
    "def gradient_descent(X, Y, alpha, iterations):\n",
    "    W1, b1, W2, b2 = init_params()\n",
    "    for i in range(iterations):\n",
    "        Z1, A1, Z2, A2 = forward_prop(W1, b1, W2, b2, X)\n",
    "        dW1, db1, dW2, db2 = backward_prop(Z1, A1, Z2, A2, W1, W2, X, Y)\n",
    "        W1, b1, W2, b2 = update_params(W1, b1, W2, b2, dW1, db1, dW2, db2, alpha)\n",
    "        if i % 10 == 0:\n",
    "            print(\"Iteration: \", i)\n",
    "            predictions = get_predictions(A2)\n",
    "            print(get_accuracy(predictions, Y))\n",
    "    return W1, b1, W2, b2"
   ]
  },
  {
   "cell_type": "code",
   "execution_count": 6,
   "id": "506771f8",
   "metadata": {
    "execution": {
     "iopub.execute_input": "2025-06-27T11:51:48.085917Z",
     "iopub.status.busy": "2025-06-27T11:51:48.084124Z",
     "iopub.status.idle": "2025-06-27T11:52:26.738398Z",
     "shell.execute_reply": "2025-06-27T11:52:26.737545Z"
    },
    "papermill": {
     "duration": 38.659581,
     "end_time": "2025-06-27T11:52:26.740248",
     "exception": false,
     "start_time": "2025-06-27T11:51:48.080667",
     "status": "completed"
    },
    "tags": []
   },
   "outputs": [
    {
     "name": "stdout",
     "output_type": "stream",
     "text": [
      "Iteration:  0\n",
      "[4 4 4 ... 7 4 4] [9 8 7 ... 2 9 5]\n",
      "0.08021951219512195\n",
      "Iteration:  10\n",
      "[1 4 4 ... 3 4 6] [9 8 7 ... 2 9 5]\n",
      "0.201609756097561\n",
      "Iteration:  20\n",
      "[4 4 4 ... 3 0 6] [9 8 7 ... 2 9 5]\n",
      "0.2642926829268293\n",
      "Iteration:  30\n",
      "[4 0 7 ... 3 0 6] [9 8 7 ... 2 9 5]\n",
      "0.32665853658536587\n",
      "Iteration:  40\n",
      "[0 7 7 ... 3 7 6] [9 8 7 ... 2 9 5]\n",
      "0.3801707317073171\n",
      "Iteration:  50\n",
      "[7 7 7 ... 3 7 8] [9 8 7 ... 2 9 5]\n",
      "0.4247560975609756\n",
      "Iteration:  60\n",
      "[7 7 7 ... 3 7 8] [9 8 7 ... 2 9 5]\n",
      "0.4654146341463415\n",
      "Iteration:  70\n",
      "[7 7 7 ... 3 9 8] [9 8 7 ... 2 9 5]\n",
      "0.5038048780487805\n",
      "Iteration:  80\n",
      "[7 7 7 ... 3 9 8] [9 8 7 ... 2 9 5]\n",
      "0.5375365853658537\n",
      "Iteration:  90\n",
      "[7 7 7 ... 3 9 8] [9 8 7 ... 2 9 5]\n",
      "0.5681951219512195\n",
      "Iteration:  100\n",
      "[7 8 7 ... 3 9 8] [9 8 7 ... 2 9 5]\n",
      "0.5946829268292683\n",
      "Iteration:  110\n",
      "[7 8 7 ... 2 9 8] [9 8 7 ... 2 9 5]\n",
      "0.6181707317073171\n",
      "Iteration:  120\n",
      "[7 8 7 ... 2 9 8] [9 8 7 ... 2 9 5]\n",
      "0.6397560975609756\n",
      "Iteration:  130\n",
      "[7 8 7 ... 2 9 8] [9 8 7 ... 2 9 5]\n",
      "0.6574634146341464\n",
      "Iteration:  140\n",
      "[7 8 7 ... 2 9 8] [9 8 7 ... 2 9 5]\n",
      "0.6729024390243903\n",
      "Iteration:  150\n",
      "[7 8 7 ... 2 9 8] [9 8 7 ... 2 9 5]\n",
      "0.6847073170731708\n",
      "Iteration:  160\n",
      "[7 8 7 ... 2 9 8] [9 8 7 ... 2 9 5]\n",
      "0.696390243902439\n",
      "Iteration:  170\n",
      "[7 8 7 ... 2 9 8] [9 8 7 ... 2 9 5]\n",
      "0.7057073170731707\n",
      "Iteration:  180\n",
      "[7 8 7 ... 2 9 8] [9 8 7 ... 2 9 5]\n",
      "0.713780487804878\n",
      "Iteration:  190\n",
      "[7 8 7 ... 2 9 8] [9 8 7 ... 2 9 5]\n",
      "0.7214390243902439\n",
      "Iteration:  200\n",
      "[7 8 7 ... 2 9 8] [9 8 7 ... 2 9 5]\n",
      "0.727390243902439\n",
      "Iteration:  210\n",
      "[7 8 7 ... 2 9 8] [9 8 7 ... 2 9 5]\n",
      "0.7334878048780488\n",
      "Iteration:  220\n",
      "[7 8 7 ... 2 9 8] [9 8 7 ... 2 9 5]\n",
      "0.7389512195121951\n",
      "Iteration:  230\n",
      "[7 8 7 ... 2 9 8] [9 8 7 ... 2 9 5]\n",
      "0.7446341463414634\n",
      "Iteration:  240\n",
      "[7 8 7 ... 2 9 8] [9 8 7 ... 2 9 5]\n",
      "0.749780487804878\n",
      "Iteration:  250\n",
      "[7 8 7 ... 2 9 8] [9 8 7 ... 2 9 5]\n",
      "0.754390243902439\n",
      "Iteration:  260\n",
      "[7 8 7 ... 2 9 8] [9 8 7 ... 2 9 5]\n",
      "0.7582439024390244\n",
      "Iteration:  270\n",
      "[7 8 7 ... 2 9 8] [9 8 7 ... 2 9 5]\n",
      "0.7628292682926829\n",
      "Iteration:  280\n",
      "[7 8 7 ... 2 9 8] [9 8 7 ... 2 9 5]\n",
      "0.7667317073170732\n",
      "Iteration:  290\n",
      "[7 8 7 ... 2 9 8] [9 8 7 ... 2 9 5]\n",
      "0.7701951219512195\n",
      "Iteration:  300\n",
      "[7 8 7 ... 2 9 8] [9 8 7 ... 2 9 5]\n",
      "0.7735853658536586\n",
      "Iteration:  310\n",
      "[7 8 7 ... 2 9 8] [9 8 7 ... 2 9 5]\n",
      "0.7777317073170732\n",
      "Iteration:  320\n",
      "[7 8 7 ... 2 9 8] [9 8 7 ... 2 9 5]\n",
      "0.7815853658536586\n",
      "Iteration:  330\n",
      "[7 8 7 ... 2 9 8] [9 8 7 ... 2 9 5]\n",
      "0.7855365853658537\n",
      "Iteration:  340\n",
      "[7 8 7 ... 2 9 8] [9 8 7 ... 2 9 5]\n",
      "0.789\n",
      "Iteration:  350\n",
      "[7 8 7 ... 2 9 8] [9 8 7 ... 2 9 5]\n",
      "0.7921463414634147\n",
      "Iteration:  360\n",
      "[7 8 7 ... 2 9 8] [9 8 7 ... 2 9 5]\n",
      "0.7945121951219513\n",
      "Iteration:  370\n",
      "[7 8 7 ... 2 9 8] [9 8 7 ... 2 9 5]\n",
      "0.7974146341463415\n",
      "Iteration:  380\n",
      "[7 8 7 ... 2 9 8] [9 8 7 ... 2 9 5]\n",
      "0.8008536585365854\n",
      "Iteration:  390\n",
      "[7 8 7 ... 2 9 8] [9 8 7 ... 2 9 5]\n",
      "0.8038048780487805\n",
      "Iteration:  400\n",
      "[7 8 7 ... 2 9 8] [9 8 7 ... 2 9 5]\n",
      "0.8068048780487805\n",
      "Iteration:  410\n",
      "[7 8 7 ... 2 9 8] [9 8 7 ... 2 9 5]\n",
      "0.8097560975609757\n",
      "Iteration:  420\n",
      "[7 8 7 ... 2 9 8] [9 8 7 ... 2 9 5]\n",
      "0.8127317073170731\n",
      "Iteration:  430\n",
      "[7 8 7 ... 2 9 8] [9 8 7 ... 2 9 5]\n",
      "0.815\n",
      "Iteration:  440\n",
      "[7 8 7 ... 2 9 8] [9 8 7 ... 2 9 5]\n",
      "0.8170731707317073\n",
      "Iteration:  450\n",
      "[7 8 7 ... 2 9 8] [9 8 7 ... 2 9 5]\n",
      "0.8193170731707317\n",
      "Iteration:  460\n",
      "[7 8 7 ... 2 9 8] [9 8 7 ... 2 9 5]\n",
      "0.8214878048780487\n",
      "Iteration:  470\n",
      "[7 8 7 ... 2 9 8] [9 8 7 ... 2 9 5]\n",
      "0.8233170731707317\n",
      "Iteration:  480\n",
      "[7 8 7 ... 2 9 8] [9 8 7 ... 2 9 5]\n",
      "0.8252682926829268\n",
      "Iteration:  490\n",
      "[7 8 7 ... 2 9 8] [9 8 7 ... 2 9 5]\n",
      "0.8276341463414634\n"
     ]
    }
   ],
   "source": [
    "W1, b1, W2, b2 = gradient_descent(X_train, Y_train, 0.10, 500)"
   ]
  },
  {
   "cell_type": "code",
   "execution_count": 7,
   "id": "a4f2dff9",
   "metadata": {
    "execution": {
     "iopub.execute_input": "2025-06-27T11:52:26.752643Z",
     "iopub.status.busy": "2025-06-27T11:52:26.752309Z",
     "iopub.status.idle": "2025-06-27T11:52:26.759090Z",
     "shell.execute_reply": "2025-06-27T11:52:26.757949Z"
    },
    "papermill": {
     "duration": 0.014831,
     "end_time": "2025-06-27T11:52:26.761069",
     "exception": false,
     "start_time": "2025-06-27T11:52:26.746238",
     "status": "completed"
    },
    "tags": []
   },
   "outputs": [],
   "source": [
    "def make_predictions(X, W1, b1, W2, b2):\n",
    "    _, _, _, A2 = forward_prop(W1, b1, W2, b2, X)\n",
    "    predictions = get_predictions(A2)\n",
    "    return predictions\n",
    "\n",
    "def test_prediction(index, W1, b1, W2, b2):\n",
    "    current_image = X_train[:, index, None]\n",
    "    prediction = make_predictions(X_train[:, index, None], W1, b1, W2, b2)\n",
    "    label = Y_train[index]\n",
    "    print(\"Prediction: \", prediction)\n",
    "    print(\"Label: \", label)\n",
    "    \n",
    "    current_image = current_image.reshape((28, 28)) * 255\n",
    "    plt.gray()\n",
    "    plt.imshow(current_image, interpolation='nearest')\n",
    "    plt.show()"
   ]
  },
  {
   "cell_type": "code",
   "execution_count": 8,
   "id": "757c65bf",
   "metadata": {
    "execution": {
     "iopub.execute_input": "2025-06-27T11:52:26.773456Z",
     "iopub.status.busy": "2025-06-27T11:52:26.773102Z",
     "iopub.status.idle": "2025-06-27T11:52:27.460460Z",
     "shell.execute_reply": "2025-06-27T11:52:27.459499Z"
    },
    "papermill": {
     "duration": 0.695252,
     "end_time": "2025-06-27T11:52:27.462005",
     "exception": false,
     "start_time": "2025-06-27T11:52:26.766753",
     "status": "completed"
    },
    "tags": []
   },
   "outputs": [
    {
     "name": "stdout",
     "output_type": "stream",
     "text": [
      "Prediction:  [7]\n",
      "Label:  9\n"
     ]
    },
    {
     "data": {
      "image/png": "[encoded data removed]",
      "text/plain": [
       "<Figure size 640x480 with 1 Axes>"
      ]
     },
     "metadata": {},
     "output_type": "display_data"
    },
    {
     "name": "stdout",
     "output_type": "stream",
     "text": [
      "Prediction:  [8]\n",
      "Label:  8\n"
     ]
    },
    {
     "data": {
      "image/png": "[encoded data removed]",
      "text/plain": [
       "<Figure size 640x480 with 1 Axes>"
      ]
     },
     "metadata": {},
     "output_type": "display_data"
    },
    {
     "name": "stdout",
     "output_type": "stream",
     "text": [
      "Prediction:  [7]\n",
      "Label:  7\n"
     ]
    },
    {
     "data": {
      "image/png": "[encoded data removed]",
      "text/plain": [
       "<Figure size 640x480 with 1 Axes>"
      ]
     },
     "metadata": {},
     "output_type": "display_data"
    },
    {
     "name": "stdout",
     "output_type": "stream",
     "text": [
      "Prediction:  [2]\n",
      "Label:  2\n"
     ]
    },
    {
     "data": {
      "image/png": "[encoded data removed]",
      "text/plain": [
       "<Figure size 640x480 with 1 Axes>"
      ]
     },
     "metadata": {},
     "output_type": "display_data"
    }
   ],
   "source": [
    "test_prediction(0, W1, b1, W2, b2)\n",
    "test_prediction(1, W1, b1, W2, b2)\n",
    "test_prediction(2, W1, b1, W2, b2)\n",
    "test_prediction(3, W1, b1, W2, b2)"
   ]
  },
  {
   "cell_type": "code",
   "execution_count": 9,
   "id": "7660aafe",
   "metadata": {
    "execution": {
     "iopub.execute_input": "2025-06-27T11:52:27.475463Z",
     "iopub.status.busy": "2025-06-27T11:52:27.474796Z",
     "iopub.status.idle": "2025-06-27T11:52:27.486567Z",
     "shell.execute_reply": "2025-06-27T11:52:27.485543Z"
    },
    "papermill": {
     "duration": 0.02042,
     "end_time": "2025-06-27T11:52:27.488382",
     "exception": false,
     "start_time": "2025-06-27T11:52:27.467962",
     "status": "completed"
    },
    "tags": []
   },
   "outputs": [
    {
     "name": "stdout",
     "output_type": "stream",
     "text": [
      "[8 1 3 7 0 4 5 3 8 9 1 4 6 7 5 9 8 1 7 3 2 7 1 1 2 5 4 3 3 5 9 9 3 0 1 8 9\n",
      " 4 2 8 0 8 7 7 2 8 9 0 8 1 6 5 3 9 0 7 7 9 4 6 6 4 8 3 9 7 4 2 5 0 1 1 5 8\n",
      " 6 2 0 0 2 9 0 1 8 1 0 5 8 9 4 7 0 9 7 5 1 2 3 4 1 4 0 0 1 1 1 9 0 7 3 7 0\n",
      " 6 1 7 8 0 6 3 9 5 0 0 5 2 4 3 6 4 8 3 7 6 9 5 1 5 9 1 7 7 2 1 5 0 8 9 8 7\n",
      " 3 0 1 0 7 4 0 8 4 2 2 6 8 4 6 1 2 8 1 3 1 2 3 9 3 9 0 8 8 2 2 7 8 0 4 4 1\n",
      " 0 1 9 3 1 8 6 5 9 9 0 0 5 3 4 0 2 5 9 3 4 3 1 9 3 6 2 3 0 4 7 6 3 1 8 9 1\n",
      " 5 6 4 2 8 5 0 3 5 6 3 6 0 0 2 9 3 4 7 0 1 2 3 2 5 9 1 7 0 0 4 0 4 7 3 3 7\n",
      " 4 2 1 3 0 1 3 2 6 4 3 0 0 1 3 7 1 9 8 9 2 8 9 4 1 9 6 6 6 9 0 1 8 5 2 2 0\n",
      " 4 1 0 4 7 3 7 7 1 9 2 7 9 9 3 3 1 6 5 3 8 4 1 6 7 1 4 3 4 4 8 8 1 6 8 2 3\n",
      " 5 9 4 0 4 7 2 8 6 1 5 7 4 9 4 3 7 2 5 6 2 8 6 4 4 1 3 9 4 8 8 8 3 6 6 3 5\n",
      " 3 8 9 4 2 0 5 6 8 6 0 8 1 1 1 2 6 4 3 9 3 1 7 6 1 6 4 0 3 1 3 6 6 0 7 0 6\n",
      " 6 2 9 3 0 3 6 3 7 3 7 7 6 5 8 9 2 7 0 9 0 7 2 4 4 8 7 1 8 7 4 1 1 8 4 5 1\n",
      " 2 7 2 8 4 1 4 2 2 9 9 9 6 3 1 6 8 8 6 3 2 2 6 7 2 3 1 1 6 8 7 9 8 0 4 8 7\n",
      " 7 2 9 3 9 8 7 5 3 4 2 9 0 4 4 3 9 2 3 3 2 2 1 8 0 2 0 1 7 7 0 6 5 8 3 9 4\n",
      " 9 6 8 6 0 8 7 5 8 8 3 9 5 8 7 1 7 6 6 4 7 9 5 3 8 4 6 7 5 5 8 7 8 9 9 3 1\n",
      " 7 3 3 4 1 3 1 6 9 8 9 9 0 0 6 7 0 9 8 0 7 2 1 7 4 4 4 8 9 7 6 8 3 5 8 5 2\n",
      " 7 7 6 6 0 2 7 3 4 0 7 1 7 8 1 6 7 0 1 1 9 5 1 8 6 3 7 9 6 1 2 1 5 7 0 6 5\n",
      " 3 8 7 6 0 1 5 5 7 9 3 6 3 7 3 2 5 6 3 8 2 9 9 9 7 9 2 8 9 8 5 0 6 9 6 7 4\n",
      " 8 4 0 8 0 2 5 1 3 5 8 1 9 2 0 1 6 6 9 6 9 1 8 6 3 1 2 0 0 9 1 2 0 3 2 4 8\n",
      " 0 3 1 5 8 8 2 0 1 6 6 2 2 6 9 9 6 9 2 2 7 3 1 9 3 2 2 9 1 4 4 3 3 4 1 0 4\n",
      " 0 8 8 7 6 4 0 3 6 8 2 3 1 4 9 0 4 7 4 0 4 7 3 4 2 6 1 0 9 3 2 4 5 2 4 0 3\n",
      " 9 3 9 9 3 0 6 9 0 8 8 2 5 6 6 4 4 9 2 4 1 6 7 6 9 7 1 1 7 0 0 6 9 3 4 5 5\n",
      " 3 5 2 6 5 4 7 4 4 3 9 7 8 0 6 6 7 2 6 9 3 1 3 0 7 7 3 9 7 2 3 7 5 6 8 1 1\n",
      " 1 3 3 8 8 4 1 8 8 9 4 3 2 2 0 6 4 8 7 6 4 1 6 3 3 3 0 2 6 0 7 7 0 9 6 1 6\n",
      " 0 8 8 1 3 3 6 9 9 1 8 1 2 5 3 3 3 7 2 8 9 4 8 2 7 8 2 4 1 3 6 9 4 3 9 5 0\n",
      " 8 2 6 2 6 7 0 9 7 7 9 7 1 1 9 5 6 8 2 9 5 3 0 4 1 6 0 4 1 0 0 1 3 2 6 4 4\n",
      " 5 7 5 2 8 9 3 7 7 0 1 8 3 7 8 0 0 3 1 0 0 5 8 5 0 7 8 6 4 1 6 7 5 2 9 2 7\n",
      " 4] [5 1 3 9 6 4 3 3 2 7 1 4 6 7 5 9 8 8 7 3 2 7 1 1 2 5 4 3 3 5 9 6 5 0 1 8 9\n",
      " 4 2 6 0 8 7 7 2 8 7 0 8 1 6 5 3 9 5 7 7 9 4 6 6 4 8 3 9 7 4 2 5 0 1 1 0 8\n",
      " 6 8 0 0 2 9 0 1 8 1 0 5 9 9 4 7 5 9 7 5 1 2 3 4 1 4 5 0 1 1 1 9 5 7 3 7 0\n",
      " 6 1 7 9 0 5 3 9 3 0 0 5 2 4 3 2 7 8 3 7 6 9 5 1 5 9 1 7 7 2 1 8 0 8 9 2 7\n",
      " 3 0 1 0 7 4 0 8 4 2 2 6 8 4 6 8 5 8 1 5 1 2 3 9 3 9 0 2 6 2 2 7 8 0 4 4 1\n",
      " 0 1 7 3 1 2 6 8 9 9 0 0 5 3 4 0 2 5 9 3 6 3 1 9 3 6 2 3 0 4 7 6 3 1 8 9 1\n",
      " 5 2 9 2 8 8 0 3 5 6 3 6 0 0 2 9 3 9 7 0 1 9 5 2 5 9 1 7 0 0 4 0 4 9 3 3 7\n",
      " 9 2 1 3 0 1 3 2 6 4 3 0 0 1 3 7 1 5 8 9 2 8 7 4 1 9 2 6 6 5 0 1 8 5 2 2 0\n",
      " 6 1 0 4 7 3 7 7 1 9 2 7 9 7 0 3 1 6 5 3 8 4 1 6 7 1 4 3 4 4 8 8 1 6 8 2 3\n",
      " 5 5 4 0 2 7 2 0 6 1 5 2 4 4 4 3 7 6 5 6 1 8 6 4 4 1 3 9 4 8 8 8 3 2 6 3 5\n",
      " 3 8 7 4 2 0 5 6 8 8 0 8 1 1 1 8 6 4 8 9 8 1 5 6 1 6 4 0 3 3 3 6 6 0 9 0 6\n",
      " 6 2 9 5 0 3 6 3 7 3 7 7 2 5 8 7 2 5 5 9 0 7 2 1 4 8 7 5 8 7 4 1 1 8 4 5 1\n",
      " 2 7 2 8 4 1 4 6 2 9 9 9 6 3 1 6 5 8 6 3 2 2 6 7 2 5 1 1 4 8 5 9 8 0 6 8 7\n",
      " 9 2 9 3 9 3 7 5 3 4 2 7 0 9 4 3 9 7 3 3 5 2 1 8 0 2 0 1 9 7 0 2 5 5 3 9 4\n",
      " 9 6 8 3 0 8 7 5 8 8 3 9 5 8 7 1 9 6 4 4 7 9 5 3 8 4 6 7 5 5 8 7 8 4 9 8 1\n",
      " 5 3 5 4 1 3 1 9 9 2 8 9 0 0 6 7 0 7 1 0 7 2 1 7 9 4 7 8 9 7 6 8 3 5 8 5 2\n",
      " 9 7 6 6 0 2 7 3 4 0 7 1 7 8 3 6 7 0 1 1 9 5 1 8 6 3 7 9 6 1 5 1 5 7 0 6 5\n",
      " 3 8 7 6 0 1 5 5 9 9 3 6 3 7 3 2 3 6 2 8 2 4 9 9 7 9 6 8 9 8 5 0 6 9 6 7 4\n",
      " 9 5 0 8 5 2 0 1 3 5 5 1 9 2 0 1 6 6 9 6 9 1 8 6 3 1 2 0 0 9 1 2 0 3 2 4 2\n",
      " 5 3 1 5 5 8 2 0 1 6 0 2 2 6 9 9 6 9 2 2 7 3 1 8 3 2 2 7 8 4 4 3 3 4 3 0 4\n",
      " 0 8 8 7 6 4 0 3 6 5 8 3 1 4 9 0 4 7 4 0 4 7 3 4 5 6 1 0 9 3 2 4 5 4 4 0 3\n",
      " 9 3 9 9 3 5 6 9 0 8 8 2 9 6 6 4 4 9 2 4 1 6 7 8 9 7 1 1 7 0 0 6 7 3 4 5 9\n",
      " 3 8 7 6 5 4 9 4 4 3 0 7 8 0 6 6 7 2 6 9 3 1 3 0 7 7 3 9 7 2 3 9 5 6 8 1 1\n",
      " 1 3 9 8 8 4 1 5 8 5 4 3 2 2 0 6 4 5 7 6 2 1 6 3 3 3 0 5 6 0 7 7 0 9 6 1 6\n",
      " 0 8 2 1 3 3 6 9 9 1 8 1 3 5 3 3 3 7 2 8 9 4 8 2 7 8 2 4 1 3 6 9 4 5 7 5 2\n",
      " 8 2 2 7 6 7 0 9 7 7 7 7 1 1 9 5 6 8 2 9 9 3 0 4 8 5 0 4 1 0 0 1 5 2 6 9 4\n",
      " 5 7 2 5 6 9 3 7 7 0 1 8 3 7 8 0 0 3 1 5 0 0 8 5 0 7 8 4 2 1 6 3 8 2 9 2 7\n",
      " 9]\n"
     ]
    },
    {
     "data": {
      "text/plain": [
       "0.835"
      ]
     },
     "execution_count": 9,
     "metadata": {},
     "output_type": "execute_result"
    }
   ],
   "source": [
    "dev_predictions = make_predictions(X_dev, W1, b1, W2, b2)\n",
    "get_accuracy(dev_predictions, Y_dev)"
   ]
  }
 ],
 "metadata": {
  "kaggle": {
   "accelerator": "none",
   "dataSources": [
    {
     "databundleVersionId": 861823,
     "sourceId": 3004,
     "sourceType": "competition"
    }
   ],
   "dockerImageVersionId": 31040,
   "isGpuEnabled": false,
   "isInternetEnabled": false,
   "language": "python",
   "sourceType": "notebook"
  },
  "kernelspec": {
   "display_name": "Python 3",
   "language": "python",
   "name": "python3"
  },
  "language_info": {
   "codemirror_mode": {
    "name": "ipython",
    "version": 3
   },
   "file_extension": ".py",
   "mimetype": "text/x-python",
   "name": "python",
   "nbconvert_exporter": "python",
   "pygments_lexer": "ipython3",
   "version": "3.11.11"
  },
  "papermill": {
   "default_parameters": {},
   "duration": 52.069329,
   "end_time": "2025-06-27T11:52:28.117524",
   "environment_variables": {},
   "exception": null,
   "input_path": "__notebook__.ipynb",
   "output_path": "__notebook__.ipynb",
   "parameters": {},
   "start_time": "2025-06-27T11:51:36.048195",
   "version": "2.6.0"
  }
 },
 "nbformat": 4,
 "nbformat_minor": 5
}
